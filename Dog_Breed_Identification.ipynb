{
  "nbformat": 4,
  "nbformat_minor": 0,
  "metadata": {
    "colab": {
      "name": "Dog Breed Identification.ipynb",
      "provenance": [],
      "authorship_tag": "ABX9TyOjhlQLdMLeULD46fBGmMKz",
      "include_colab_link": true
    },
    "kernelspec": {
      "name": "python3",
      "display_name": "Python 3"
    },
    "accelerator": "GPU"
  },
  "cells": [
    {
      "cell_type": "markdown",
      "metadata": {
        "id": "view-in-github",
        "colab_type": "text"
      },
      "source": [
        "<a href=\"https://colab.research.google.com/github/khalilkabara/Kaggle-Dog-Breed-Identification/blob/master/Dog_Breed_Identification.ipynb\" target=\"_parent\"><img src=\"https://colab.research.google.com/assets/colab-badge.svg\" alt=\"Open In Colab\"/></a>"
      ]
    },
    {
      "cell_type": "markdown",
      "metadata": {
        "id": "7556lDFcMXHv",
        "colab_type": "text"
      },
      "source": [
        "# End-To-End Multi Class Dog Breed Classification (On Google Colab)"
      ]
    },
    {
      "cell_type": "markdown",
      "metadata": {
        "id": "JhUubrx4FYNi",
        "colab_type": "text"
      },
      "source": [
        "### Workflow\n",
        "\n",
        "### 1. Problem Overview:\n",
        "**Summary:** Identify the breed of a dog given it's image\n",
        "\n",
        "In this playground competition, you are provided a strictly canine subset of ImageNet in order to practice fine-grained image categorization. How well you can tell your Norfolk Terriers from your Norwich Terriers? With 120 breeds of dogs and a limited number training images per class, you might find the problem more, err, ruff than you anticipated.\n",
        "\n",
        "This problem was hosted on Kaggle at https://www.kaggle.com/c/dog-breed-identification/\n",
        "\n",
        "### 2. Data:\n",
        "You are provided with a training set and a test set of images of dogs. Each image has a filename that is its unique id. The dataset comprises 120 breeds of dogs. The goal of the competition is to create a classifier capable of determining a dog's breed from a photo.\n",
        "\n",
        "More at: https://www.kaggle.com/c/dog-breed-identification/data\n",
        "\n",
        "### 3. Modelling\n",
        "For this peoject, we are going to use Google's Tensorflow\n",
        "\n",
        "### 4. Evaluation\n",
        "Submissions are evaluated on Multi Class Log Loss between the predicted probability and the observed target.\n",
        "\n",
        "Submission File\n",
        "For each image in the test set, you must predict a probability for each of the different breeds. The file should contain a header and have the following format:\n",
        "\n",
        "id,affenpinscher,afghan_hound,..,yorkshire_terrier\n",
        "000621fb3cbb32d8935728e48679680e,0.0083,0.0,...,0.0083\n",
        "etc.\n",
        "\n",
        "**Multi-Class-Log-Loss:** Multi-class logarithmic loss function per class. ... The cost function F measures the distance between two probability distributions, i.e. how similar is the distribution of actual labels and classifier probabilities. Hence, values close to zero are preferred. More at https://stats.stackexchange.com/questions/113301/multi-class-logarithmic-loss-function-per-class\n",
        "\n",
        "More at: https://www.kaggle.com/c/dog-breed-identification/overview/evaluation\n",
        "\n",
        "### 5. Features\n",
        "You are provided with a training set and a test set of images of dogs. Each image has a filename that is its unique id. The dataset comprises 120 breeds of dogs. The goal of the competition is to create a classifier capable of determining a dog's breed from a photo.\n",
        "\n",
        "More at: https://www.kaggle.com/c/dog-breed-identification/data"
      ]
    },
    {
      "cell_type": "markdown",
      "metadata": {
        "id": "bwYZaXB1GYnw",
        "colab_type": "text"
      },
      "source": [
        "### Import Data"
      ]
    },
    {
      "cell_type": "code",
      "metadata": {
        "id": "iXsrpxh9_UAW",
        "colab_type": "code",
        "colab": {}
      },
      "source": [
        "# Import Data Into Colab (Or Use Google Drive As Indicated In The Next Cell)\n",
        "\n",
        "# !wget -x --load-cookies cookies.txt \"https://www.kaggle.com/c/7327/download-all\" -O data.zip\n",
        "# !unzip data.zip"
      ],
      "execution_count": 0,
      "outputs": []
    },
    {
      "cell_type": "code",
      "metadata": {
        "id": "386P78R1_ZET",
        "colab_type": "code",
        "colab": {}
      },
      "source": [
        "# Authorize Google Drive Mount So That We Can Access Google Drive Data From Colab\n",
        "\n",
        "# from google.colab import drive\n",
        "# drive.mount('/content/drive')"
      ],
      "execution_count": 0,
      "outputs": []
    },
    {
      "cell_type": "code",
      "metadata": {
        "id": "kZnUCp_e_y1-",
        "colab_type": "code",
        "colab": {}
      },
      "source": [
        "# Unzip Files In Google Drive\n",
        "\n",
        "# !unzip \"/content/drive/My Drive/SWDEV/Data/Dog Breed Identification - Kaggle/data.zip\" -d \"/content/drive/My Drive/SWDEV/Data/Dog Breed Identification - Kaggle/data_unzipped\""
      ],
      "execution_count": 0,
      "outputs": []
    },
    {
      "cell_type": "code",
      "metadata": {
        "id": "NRqVoP3UJPpD",
        "colab_type": "code",
        "colab": {}
      },
      "source": [
        ""
      ],
      "execution_count": 0,
      "outputs": []
    },
    {
      "cell_type": "markdown",
      "metadata": {
        "id": "X-8WAlcrJRcU",
        "colab_type": "text"
      },
      "source": [
        "### Import Libraries And Get Workspace Ready\n",
        "> Import TensorFlow into colab\n",
        "\n",
        "> Ensure we are running TF v 2.0 and above\n",
        "\n",
        "> Import Tensorflow Hub\n",
        "\n",
        "> Ensure we are running on a GPU"
      ]
    },
    {
      "cell_type": "code",
      "metadata": {
        "id": "T6QjLIzRNMWY",
        "colab_type": "code",
        "colab": {}
      },
      "source": [
        "# Import TensorFlow into colab\n",
        "\n",
        "import tensorflow as tf"
      ],
      "execution_count": 0,
      "outputs": []
    },
    {
      "cell_type": "code",
      "metadata": {
        "id": "NbY6wKP7RFO-",
        "colab_type": "code",
        "colab": {
          "base_uri": "https://localhost:8080/",
          "height": 34
        },
        "outputId": "757bbb17-d425-4ffa-e474-1d9f7046749f"
      },
      "source": [
        "# Check TF version\n",
        "\n",
        "print(\"TF version: \", tf.__version__)"
      ],
      "execution_count": 3,
      "outputs": [
        {
          "output_type": "stream",
          "text": [
            "TF version:  2.2.0-rc4\n"
          ],
          "name": "stdout"
        }
      ]
    },
    {
      "cell_type": "code",
      "metadata": {
        "id": "vJCVDcbnQXt2",
        "colab_type": "code",
        "colab": {
          "base_uri": "https://localhost:8080/",
          "height": 34
        },
        "outputId": "3c86f2fa-8d70-4057-d1c9-0e96d87939c0"
      },
      "source": [
        "# Import Tensorflow Hub\n",
        "\n",
        "import tensorflow_hub as hub\n",
        "print(\"TF Hub version: \", hub.__version__)"
      ],
      "execution_count": 4,
      "outputs": [
        {
          "output_type": "stream",
          "text": [
            "TF Hub version:  0.8.0\n"
          ],
          "name": "stdout"
        }
      ]
    },
    {
      "cell_type": "code",
      "metadata": {
        "id": "E4B2R6RXQ9qA",
        "colab_type": "code",
        "colab": {
          "base_uri": "https://localhost:8080/",
          "height": 34
        },
        "outputId": "103a43d8-91ef-4c80-cc99-5cd4f14df390"
      },
      "source": [
        "# Check if GPU is available\n",
        "\n",
        "print(\"GPU\", \"available.\" if tf.config.list_physical_devices(\"GPU\") else \"not available\")\n",
        "\n",
        "# If GPU not available, so setup GPU in notebook settings under toolbar > runtime > change runtime type"
      ],
      "execution_count": 5,
      "outputs": [
        {
          "output_type": "stream",
          "text": [
            "GPU available.\n"
          ],
          "name": "stdout"
        }
      ]
    },
    {
      "cell_type": "markdown",
      "metadata": {
        "id": "cchPfUXnGeDK",
        "colab_type": "text"
      },
      "source": [
        "### Create Helper Strings For Accessing Data In Drive"
      ]
    },
    {
      "cell_type": "code",
      "metadata": {
        "id": "PYGxPkxYB2sH",
        "colab_type": "code",
        "colab": {}
      },
      "source": [
        "# Create Helper Strings That Point To File Paths Since Paths Are Pretty Long\n",
        "\n",
        "# test_data_path = \"content/drive/My Drive/SWDEV/Data/Dog Breed Identification - Kaggle/data_unzipped/test\"\n",
        "# train_data_path = \"content/drive/My Drive/SWDEV/Data/Dog Breed Identification - Kaggle/data_unzipped/train\"\n",
        "labels_path = \"/drive/My Drive/SWDEV/Data/Dog Breed Identification - Kaggle/data_unzipped/labels.csv\"\n",
        "# sample_submission_path = \"content/drive/My Drive/SWDEV/Data/Dog Breed Identification - Kaggle/data_unzipped/sample_submission.csv\""
      ],
      "execution_count": 0,
      "outputs": []
    },
    {
      "cell_type": "code",
      "metadata": {
        "id": "BgLm7ni9D6-B",
        "colab_type": "code",
        "colab": {}
      },
      "source": [
        "import pandas as pd\n",
        "labels_df = pd.read_csv(labels_path)\n",
        "labels_df"
      ],
      "execution_count": 0,
      "outputs": []
    },
    {
      "cell_type": "code",
      "metadata": {
        "id": "--PmaVzKEMXQ",
        "colab_type": "code",
        "colab": {}
      },
      "source": [
        ""
      ],
      "execution_count": 0,
      "outputs": []
    },
    {
      "cell_type": "code",
      "metadata": {
        "id": "gT8dUi7vJd8A",
        "colab_type": "code",
        "colab": {}
      },
      "source": [
        ""
      ],
      "execution_count": 0,
      "outputs": []
    }
  ]
}